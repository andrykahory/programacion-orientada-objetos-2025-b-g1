{
  "nbformat": 4,
  "nbformat_minor": 0,
  "metadata": {
    "colab": {
      "provenance": []
    },
    "kernelspec": {
      "name": "python3",
      "display_name": "Python 3"
    },
    "language_info": {
      "name": "python"
    }
  },
  "cells": [
    {
      "cell_type": "code",
      "execution_count": null,
      "metadata": {
        "id": "JG4Y5ldTV003"
      },
      "outputs": [],
      "source": [
        "def __init__(self, titular: str, saldo_inicial: float = 0.0):\n",
        " if saldo_inicial < 0:\n",
        "  raise ValueError(\"El saldo inicial no puede ser negativo\")\n",
        "  self.titular = titular\n",
        "  self._saldo = float(saldo_inicial)\n",
        "  self.historia: list[str] = []\n",
        "\n",
        "@property\n",
        "def saldo(self) -> float:\n",
        "  return self._saldo\n",
        "\n",
        "def depositar(self, monto: float) -> None:\n",
        " if monto <= 0:\n",
        "  raise ValueError(\"el deposito debe ser positivo\")\n",
        " self._saldo += monto\n",
        " self.historia.append(f\"deposito de {monto}\")\n",
        "\n",
        " def retirar(self, monto: float) -> None:\n",
        "  if monto <= 0:\n",
        "    raise ValueError(\"el retiro debe ser positivo\")\n",
        "  if monto > self._saldo:\n",
        "    raise ValueError(\"fondos insuficientes\")\n",
        "  self._saldo -= monto\n",
        "  self._historial.append(f\"retiro de {monto}\")\n",
        "\n",
        "def__repr__(self) -> str:\n",
        "  return f\"cuentaBancaria(titular='{self.titular}', saldo={self._saldo:.2f})\""
      ]
    },
    {
      "cell_type": "code",
      "metadata": {
        "id": "8612d043"
      },
      "source": [
        "class CuentaBancaria:\n",
        "    def __init__(self, titular: str, saldo_inicial: float = 0.0):\n",
        "        if saldo_inicial < 0:\n",
        "            raise ValueError(\"El saldo inicial no puede ser negativo\")\n",
        "        self.titular = titular\n",
        "        self._saldo = float(saldo_inicial)\n",
        "        self.historia: list[str] = []\n",
        "\n",
        "    @property\n",
        "    def saldo(self) -> float:\n",
        "        return self._saldo\n",
        "\n",
        "    def depositar(self, monto: float) -> None:\n",
        "        if monto <= 0:\n",
        "            raise ValueError(\"el deposito debe ser positivo\")\n",
        "        self._saldo += monto\n",
        "        self.historia.append(f\"deposito de {monto}\")\n",
        "\n",
        "    def retirar(self, monto: float) -> None:\n",
        "        if monto <= 0:\n",
        "            raise ValueError(\"el retiro debe ser positivo\")\n",
        "        if monto > self._saldo:\n",
        "            raise ValueError(\"fondos insuficientes\")\n",
        "        self._saldo -= monto\n",
        "        self.historia.append(f\"retiro de {monto}\") # Corrected from _historial to historia\n",
        "\n",
        "    def __repr__(self) -> str:\n",
        "        return f\"cuentaBancaria(titular='{self.titular}', saldo={self._saldo:.2f})\""
      ],
      "execution_count": 1,
      "outputs": []
    }
  ]
}